{
 "cells": [
  {
   "cell_type": "code",
   "execution_count": null,
   "metadata": {},
   "outputs": [],
   "source": [
    " "
   ]
  },
  {
   "cell_type": "markdown",
   "metadata": {
    "id": "Whsg1XX_OZs6"
   },
   "source": [
    "# Boilerplate\n",
    "\n",
    "Package installation, loading, and dataloaders. There's also a simple model defined. You can change it your favourite architecture if you want."
   ]
  },
  {
   "cell_type": "code",
   "execution_count": 41,
   "metadata": {
    "id": "R1domTvnONqD"
   },
   "outputs": [
    {
     "data": {
      "text/plain": [
       "Sequential(\n",
       "  (0): Normalize()\n",
       "  (1): Net(\n",
       "    (fc): Linear(in_features=784, out_features=200, bias=True)\n",
       "    (fc2): Linear(in_features=200, out_features=10, bias=True)\n",
       "  )\n",
       ")"
      ]
     },
     "execution_count": 41,
     "metadata": {},
     "output_type": "execute_result"
    }
   ],
   "source": [
    "#!pip install tensorboardX\n",
    "#!pip install torchvision \n",
    "\n",
    "import torch\n",
    "import torch.nn as nn\n",
    "import torch.optim as optim\n",
    "import torch.nn.functional as F\n",
    "import numpy as np\n",
    "import time\n",
    "#!pip install matplotlib\n",
    "import matplotlib.pyplot as plt\n",
    "\n",
    "from torchvision import datasets, transforms\n",
    "# from tensorboardX import SummaryWriter\n",
    "\n",
    "use_cuda = False\n",
    "device = torch.device(\"cuda\" if use_cuda else \"cpu\")\n",
    "batch_size = 64\n",
    "\n",
    "np.random.seed(42)\n",
    "torch.manual_seed(42)\n",
    "\n",
    "\n",
    "## Dataloaders\n",
    "train_dataset = datasets.MNIST('mnist_data/', train=True, download=True, transform=transforms.Compose(\n",
    "    [transforms.ToTensor()]\n",
    "))\n",
    "test_dataset = datasets.MNIST('mnist_data/', train=False, download=True, transform=transforms.Compose(\n",
    "    [transforms.ToTensor()]\n",
    "))\n",
    "\n",
    "train_loader = torch.utils.data.DataLoader(train_dataset, batch_size=batch_size, shuffle=True)\n",
    "test_loader = torch.utils.data.DataLoader(test_dataset, batch_size=batch_size, shuffle=False)\n",
    "\n",
    "## Simple NN. You can change this if you want. If you change it, mention the architectural details in your report.\n",
    "class Net(nn.Module):\n",
    "    def __init__(self):\n",
    "        super(Net, self).__init__()\n",
    "        self.fc = nn.Linear(28*28, 200)\n",
    "        self.fc2 = nn.Linear(200,10)\n",
    "\n",
    "    def forward(self, x):\n",
    "        x = x.view((-1, 28*28))\n",
    "        x = F.relu(self.fc(x))\n",
    "        x = self.fc2(x)\n",
    "        return x\n",
    "\n",
    "class Normalize(nn.Module):\n",
    "    def forward(self, x):\n",
    "        return (x - 0.1307)/0.3081\n",
    "\n",
    "# Add the data normalization as a first \"layer\" to the network\n",
    "# this allows us to search for adverserial examples to the real image, rather than\n",
    "# to the normalized image\n",
    "model = nn.Sequential(Normalize(), Net())\n",
    "\n",
    "model = model.to(device)\n",
    "model.train()"
   ]
  },
  {
   "cell_type": "markdown",
   "metadata": {
    "id": "NCmWfZHTO8Oo"
   },
   "source": [
    "# Implement the Attacks\n",
    "\n",
    "Functions are given a simple useful signature that you can start with. Feel free to extend the signature as you see fit.\n",
    "\n",
    "You may find it useful to create a 'batched' version of PGD that you can use to create the adversarial attack."
   ]
  },
  {
   "cell_type": "code",
   "execution_count": 42,
   "metadata": {
    "id": "EZjvA49yONqP"
   },
   "outputs": [],
   "source": [
    "# The last argument 'targeted' can be used to toggle between a targeted and untargeted attack.\n",
    "def fgsm(model, x, eps,y,T=True):\n",
    "    x.requires_grad_()\n",
    "    adv_x = x\n",
    "    L = nn.CrossEntropyLoss()\n",
    "    loss = L(model(adv_x), y)\n",
    "    loss.backward(retain_graph=True)\n",
    "    adv_x = x + eps*x.grad.sign();\n",
    "    return torch.clamp(adv_x, min=0, max=1)\n",
    "    \n",
    "def pgd_untargeted(model, x, y, k, eps, eps_step):\n",
    "    model.eval()\n",
    "    adv_x = x\n",
    "    adv_x.requires_grad_()\n",
    "\n",
    "    for i in range(k):\n",
    "        adv_x.retain_grad()\n",
    "        adv_x = fgsm(model, adv_x, eps_step,y,T=False)\n",
    "        adv_x = torch.clamp(adv_x - x, -eps, eps)\n",
    "        adv_x = torch.clamp(x + adv_x, 0, 1)\n",
    "    return adv_x\n",
    "\n",
    "\n",
    "\n",
    "    "
   ]
  },
  {
   "cell_type": "markdown",
   "metadata": {
    "id": "0Mja_AB4RykO"
   },
   "source": [
    "# Implement Adversarial Training"
   ]
  },
  {
   "cell_type": "code",
   "execution_count": 43,
   "metadata": {
    "id": "V-sw8yKYONqQ"
   },
   "outputs": [],
   "source": [
    "def train_model(model, num_epochs, enable_defense=True, attack='pgd', eps=0.1):\n",
    "    # TODO: implement this function that trains a given model on the MNIST dataset.\n",
    "    # this is a general-purpose function for both standard training and adversarial training.\n",
    "    # (toggle enable_defense parameter to switch between training schemes)\n",
    "    optimizer = optim.Adam(model.parameters(), lr=0.0001)\n",
    "    criterion = nn.CrossEntropyLoss()\n",
    "    tot_test=0.0\n",
    "    tot_acc =0.0\n",
    "    for epoch in range(1,num_epochs+1):\n",
    "        running_loss = 0.0\n",
    "        for batch_idx, (x, y) in enumerate(train_loader):   \n",
    "            if enable_defense:\n",
    "                x = pgd_untargeted(model, x, y, 10, eps, 0.01)\n",
    "            optimizer.zero_grad()\n",
    "            output = model(x)\n",
    "            loss = criterion(output, y)\n",
    "            loss.backward()\n",
    "            optimizer.step()\n",
    "            x, y = x.to(device), y.to(device)\n",
    "            out = model(x)\n",
    "            pred = torch.max(out, dim=1)[1]\n",
    "            acc = pred.eq(y).sum().item()\n",
    "            tot_acc += acc\n",
    "            tot_test += x.size()[0]\n",
    "            \n",
    "        print('Epoch %d: Accuracy %.5lf [%.2lf seconds]' % (epoch, tot_acc/tot_test))\n"
   ]
  },
  {
   "cell_type": "code",
   "execution_count": 44,
   "metadata": {},
   "outputs": [],
   "source": [
    "def test_model_on_attacks(model, attack='pgd', eps=0.1):\n",
    "    # TODO: implement this function to test the robust accuracy of the given model\n",
    "    # use pgd_untargeted() within this function\n",
    "    \n",
    "    model.eval()\n",
    "    tot_test=0.0\n",
    "    tot_acc =0.0\n",
    "    for batch_idx, (x, y) in enumerate(train_loader):\n",
    "        x = pgd_untargeted(model, x, y, 10, eps, 0.01)\n",
    "        \n",
    "        out = model(x)\n",
    "        \n",
    "        pred = torch.max(out, dim=1)[1]\n",
    "        acc = pred.eq(y).sum().item()\n",
    "        tot_acc += acc\n",
    "        tot_test += x.size()[0]\n",
    "    \n",
    "    print('Robust Accuracy %.5lf' % (100*(tot_acc/tot_test)))\n",
    "    "
   ]
  },
  {
   "cell_type": "markdown",
   "metadata": {
    "id": "ZPMdfEhtR3zm"
   },
   "source": [
    "# Study Accuracy, Quality, etc.\n",
    "\n",
    "Compare the various results and report your observations on the submission."
   ]
  },
  {
   "cell_type": "code",
   "execution_count": 45,
   "metadata": {
    "scrolled": true
   },
   "outputs": [
    {
     "name": "stdout",
     "output_type": "stream",
     "text": [
      "Epoch 1: Accuracy 0.87160 [5.42 seconds]\n",
      "Epoch 2: Accuracy 0.89998 [4.68 seconds]\n",
      "Epoch 3: Accuracy 0.91427 [4.20 seconds]\n",
      "Epoch 4: Accuracy 0.92370 [3.55 seconds]\n",
      "Epoch 5: Accuracy 0.93073 [3.48 seconds]\n"
     ]
    }
   ],
   "source": [
    "## train the original model\n",
    "model = nn.Sequential(Normalize(), Net())\n",
    "model = model.to(device)\n",
    "model.train()\n",
    "\n",
    "train_model(model, 5, False)\n",
    "torch.save(model.state_dict(), 'weights.pt')"
   ]
  },
  {
   "cell_type": "code",
   "execution_count": 49,
   "metadata": {},
   "outputs": [
    {
     "name": "stderr",
     "output_type": "stream",
     "text": [
      "C:\\Users\\SHARVA\\AppData\\Local\\Temp\\ipykernel_7804\\1411449180.py:2: FutureWarning: You are using `torch.load` with `weights_only=False` (the current default value), which uses the default pickle module implicitly. It is possible to construct malicious pickle data which will execute arbitrary code during unpickling (See https://github.com/pytorch/pytorch/blob/main/SECURITY.md#untrusted-models for more details). In a future release, the default value for `weights_only` will be flipped to `True`. This limits the functions that could be executed during unpickling. Arbitrary objects will no longer be allowed to be loaded via this mode unless they are explicitly allowlisted by the user via `torch.serialization.add_safe_globals`. We recommend you start setting `weights_only=True` for any use case where you don't have full control of the loaded file. Please open an issue on GitHub for any issues related to this experimental feature.\n",
      "  model.load_state_dict(torch.load('weights.pt'))\n"
     ]
    },
    {
     "name": "stdout",
     "output_type": "stream",
     "text": [
      "Standard Accuracy 96.32667\n"
     ]
    }
   ],
   "source": [
    "model = nn.Sequential(Normalize(), Net())\n",
    "model.load_state_dict(torch.load('weights.pt'))\n",
    "\n",
    "model.eval()\n",
    "tot_test=0\n",
    "tot_acc =0\n",
    "for batch_idx, (x, y) in enumerate(train_loader):\n",
    "\n",
    "\n",
    "    x, y = x.to(device), y.to(device)\n",
    "    out = model(x)\n",
    "    \n",
    "    pred = torch.max(out, dim=1)[1]\n",
    "    acc = pred.eq(y).sum().item()\n",
    "    tot_acc += acc\n",
    "    tot_test += x.size()[0]\n",
    "\n",
    "print('Standard Accuracy %.5lf' % (100*(tot_acc/tot_test)))\n"
   ]
  },
  {
   "cell_type": "code",
   "execution_count": 46,
   "metadata": {},
   "outputs": [
    {
     "name": "stderr",
     "output_type": "stream",
     "text": [
      "C:\\Users\\SHARVA\\AppData\\Local\\Temp\\ipykernel_7804\\2413235994.py:3: FutureWarning: You are using `torch.load` with `weights_only=False` (the current default value), which uses the default pickle module implicitly. It is possible to construct malicious pickle data which will execute arbitrary code during unpickling (See https://github.com/pytorch/pytorch/blob/main/SECURITY.md#untrusted-models for more details). In a future release, the default value for `weights_only` will be flipped to `True`. This limits the functions that could be executed during unpickling. Arbitrary objects will no longer be allowed to be loaded via this mode unless they are explicitly allowlisted by the user via `torch.serialization.add_safe_globals`. We recommend you start setting `weights_only=True` for any use case where you don't have full control of the loaded file. Please open an issue on GitHub for any issues related to this experimental feature.\n",
      "  model.load_state_dict(torch.load('weights.pt'))\n"
     ]
    },
    {
     "name": "stdout",
     "output_type": "stream",
     "text": [
      "Accuracy 0.72942 [55.67 seconds]\n",
      "Accuracy 0.19707 [54.36 seconds]\n",
      "Accuracy 0.19707 [54.25 seconds]\n",
      "Accuracy 0.19707 [54.23 seconds]\n"
     ]
    }
   ],
   "source": [
    "## PGD attack\n",
    "model = nn.Sequential(Normalize(), Net())\n",
    "model.load_state_dict(torch.load('weights.pt'))\n",
    "\n",
    "for eps in [0.05, 0.1, 0.15, 0.2]:\n",
    "    test_model_on_attacks(model, attack='pgd', eps=eps)"
   ]
  },
  {
   "cell_type": "code",
   "execution_count": 47,
   "metadata": {
    "id": "ufD-ccTFR8R2"
   },
   "outputs": [
    {
     "name": "stdout",
     "output_type": "stream",
     "text": [
      "Epoch 1: Accuracy 0.55807 [63.63 seconds]\n",
      "Epoch 2: Accuracy 0.63928 [64.61 seconds]\n",
      "Epoch 3: Accuracy 0.68357 [64.11 seconds]\n",
      "Epoch 4: Accuracy 0.71281 [65.55 seconds]\n",
      "Epoch 5: Accuracy 0.73442 [64.02 seconds]\n"
     ]
    }
   ],
   "source": [
    "## PGD based adversarial training\n",
    "model = nn.Sequential(Normalize(), Net())\n",
    "eps = 0.1\n",
    "train_model(model, 5, True, 'pgd', eps)\n",
    "torch.save(model.state_dict(), f'weights_AT_{eps}.pt')"
   ]
  },
  {
   "cell_type": "code",
   "execution_count": 48,
   "metadata": {},
   "outputs": [
    {
     "name": "stderr",
     "output_type": "stream",
     "text": [
      "C:\\Users\\SHARVA\\AppData\\Local\\Temp\\ipykernel_7804\\1716275143.py:3: FutureWarning: You are using `torch.load` with `weights_only=False` (the current default value), which uses the default pickle module implicitly. It is possible to construct malicious pickle data which will execute arbitrary code during unpickling (See https://github.com/pytorch/pytorch/blob/main/SECURITY.md#untrusted-models for more details). In a future release, the default value for `weights_only` will be flipped to `True`. This limits the functions that could be executed during unpickling. Arbitrary objects will no longer be allowed to be loaded via this mode unless they are explicitly allowlisted by the user via `torch.serialization.add_safe_globals`. We recommend you start setting `weights_only=True` for any use case where you don't have full control of the loaded file. Please open an issue on GitHub for any issues related to this experimental feature.\n",
      "  model.load_state_dict(torch.load(f'weights_AT_0.1.pt'))\n"
     ]
    },
    {
     "name": "stdout",
     "output_type": "stream",
     "text": [
      "Accuracy 0.90988 [54.68 seconds]\n",
      "Accuracy 0.82735 [56.16 seconds]\n",
      "Accuracy 0.82735 [56.89 seconds]\n",
      "Accuracy 0.82735 [57.45 seconds]\n"
     ]
    }
   ],
   "source": [
    "## PGD attack\n",
    "model = nn.Sequential(Normalize(), Net())\n",
    "model.load_state_dict(torch.load(f'weights_AT_0.1.pt'))\n",
    "\n",
    "for eps in [0.05, 0.1, 0.15, 0.2]:\n",
    "    test_model_on_attacks(model, attack='pgd', eps=eps)"
   ]
  },
  {
   "cell_type": "code",
   "execution_count": null,
   "metadata": {},
   "outputs": [],
   "source": []
  },
  {
   "cell_type": "code",
   "execution_count": null,
   "metadata": {},
   "outputs": [],
   "source": []
  }
 ],
 "metadata": {
  "colab": {
   "provenance": []
  },
  "kernelspec": {
   "display_name": "Python 3 (ipykernel)",
   "language": "python",
   "name": "python3"
  },
  "language_info": {
   "codemirror_mode": {
    "name": "ipython",
    "version": 3
   },
   "file_extension": ".py",
   "mimetype": "text/x-python",
   "name": "python",
   "nbconvert_exporter": "python",
   "pygments_lexer": "ipython3",
   "version": "3.12.3"
  }
 },
 "nbformat": 4,
 "nbformat_minor": 4
}
